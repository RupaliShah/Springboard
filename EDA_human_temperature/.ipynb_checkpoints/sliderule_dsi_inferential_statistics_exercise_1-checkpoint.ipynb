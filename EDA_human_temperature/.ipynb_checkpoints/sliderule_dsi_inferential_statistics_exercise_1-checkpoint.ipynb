{
 "cells": [
  {
   "cell_type": "markdown",
   "metadata": {},
   "source": [
    "# What is the True Normal Human Body Temperature? \n",
    "\n",
    "#### Background\n",
    "\n",
    "The mean normal body temperature was held to be 37$^{\\circ}$C or 98.6$^{\\circ}$F for more than 120 years since it was first conceptualized and reported by Carl Wunderlich in a famous 1868 book. But, is this value statistically correct?"
   ]
  },
  {
   "cell_type": "markdown",
   "metadata": {},
   "source": [
    "<h3>Exercises</h3>\n",
    "\n",
    "<p>In this exercise, you will analyze a dataset of human body temperatures and employ the concepts of hypothesis testing, confidence intervals, and statistical significance.</p>\n",
    "\n",
    "<p>Answer the following questions <b>in this notebook below and submit to your Github account</b>.</p> \n",
    "\n",
    "<ol>\n",
    "<li>  Is the distribution of body temperatures normal? \n",
    "    <ul>\n",
    "    <li> Although this is not a requirement for the Central Limit Theorem to hold (read the introduction on Wikipedia's page about the CLT carefully: https://en.wikipedia.org/wiki/Central_limit_theorem), it gives us some peace of mind that the population may also be normally distributed if we assume that this sample is representative of the population.\n",
    "    <li> Think about the way you're going to check for the normality of the distribution. Graphical methods are usually used first, but there are also other ways: https://en.wikipedia.org/wiki/Normality_test\n",
    "    </ul>\n",
    "<li>  Is the sample size large? Are the observations independent?\n",
    "    <ul>\n",
    "    <li> Remember that this is a condition for the Central Limit Theorem, and hence the statistical tests we are using, to apply.\n",
    "    </ul>\n",
    "<li>  Is the true population mean really 98.6 degrees F?\n",
    "    <ul>\n",
    "    <li> First, try a bootstrap hypothesis test.\n",
    "    <li> Now, let's try frequentist statistical testing. Would you use a one-sample or two-sample test? Why?\n",
    "    <li> In this situation, is it appropriate to use the $t$ or $z$ statistic? \n",
    "    <li> Now try using the other test. How is the result be different? Why?\n",
    "    </ul>\n",
    "<li>  Draw a small sample of size 10 from the data and repeat both frequentist tests. \n",
    "    <ul>\n",
    "    <li> Which one is the correct one to use? \n",
    "    <li> What do you notice? What does this tell you about the difference in application of the $t$ and $z$ statistic?\n",
    "    </ul>\n",
    "<li>  At what temperature should we consider someone's temperature to be \"abnormal\"?\n",
    "    <ul>\n",
    "    <li> As in the previous example, try calculating everything using the boostrap approach, as well as the frequentist approach.\n",
    "    <li> Start by computing the margin of error and confidence interval. When calculating the confidence interval, keep in mind that you should use the appropriate formula for one draw, and not N draws.\n",
    "    </ul>\n",
    "<li>  Is there a significant difference between males and females in normal temperature?\n",
    "    <ul>\n",
    "    <li> What testing approach did you use and why?\n",
    "    <li> Write a story with your conclusion in the context of the original problem.\n",
    "    </ul>\n",
    "</ol>\n",
    "\n",
    "You can include written notes in notebook cells using Markdown: \n",
    "   - In the control panel at the top, choose Cell > Cell Type > Markdown\n",
    "   - Markdown syntax: http://nestacms.com/docs/creating-content/markdown-cheat-sheet\n",
    "\n",
    "#### Resources\n",
    "\n",
    "+ Information and data sources: http://www.amstat.org/publications/jse/datasets/normtemp.txt, http://www.amstat.org/publications/jse/jse_data_archive.htm\n",
    "+ Markdown syntax: http://nestacms.com/docs/creating-content/markdown-cheat-sheet\n",
    "\n",
    "****"
   ]
  },
  {
   "cell_type": "code",
   "execution_count": 1,
   "metadata": {
    "collapsed": true
   },
   "outputs": [],
   "source": [
    "import pandas as pd\n",
    "import numpy as np\n",
    "import matplotlib.pyplot as plt\n",
    "import scipy\n",
    "import seaborn as sns\n",
    "from scipy.stats import stats\n",
    "sns.set()"
   ]
  },
  {
   "cell_type": "code",
   "execution_count": 2,
   "metadata": {},
   "outputs": [
    {
     "data": {
      "text/html": [
       "<div>\n",
       "<style>\n",
       "    .dataframe thead tr:only-child th {\n",
       "        text-align: right;\n",
       "    }\n",
       "\n",
       "    .dataframe thead th {\n",
       "        text-align: left;\n",
       "    }\n",
       "\n",
       "    .dataframe tbody tr th {\n",
       "        vertical-align: top;\n",
       "    }\n",
       "</style>\n",
       "<table border=\"1\" class=\"dataframe\">\n",
       "  <thead>\n",
       "    <tr style=\"text-align: right;\">\n",
       "      <th></th>\n",
       "      <th>temperature</th>\n",
       "      <th>gender</th>\n",
       "      <th>heart_rate</th>\n",
       "    </tr>\n",
       "  </thead>\n",
       "  <tbody>\n",
       "    <tr>\n",
       "      <th>0</th>\n",
       "      <td>99.3</td>\n",
       "      <td>F</td>\n",
       "      <td>68.0</td>\n",
       "    </tr>\n",
       "    <tr>\n",
       "      <th>1</th>\n",
       "      <td>98.4</td>\n",
       "      <td>F</td>\n",
       "      <td>81.0</td>\n",
       "    </tr>\n",
       "    <tr>\n",
       "      <th>2</th>\n",
       "      <td>97.8</td>\n",
       "      <td>M</td>\n",
       "      <td>73.0</td>\n",
       "    </tr>\n",
       "    <tr>\n",
       "      <th>3</th>\n",
       "      <td>99.2</td>\n",
       "      <td>F</td>\n",
       "      <td>66.0</td>\n",
       "    </tr>\n",
       "    <tr>\n",
       "      <th>4</th>\n",
       "      <td>98.0</td>\n",
       "      <td>F</td>\n",
       "      <td>73.0</td>\n",
       "    </tr>\n",
       "  </tbody>\n",
       "</table>\n",
       "</div>"
      ],
      "text/plain": [
       "   temperature gender  heart_rate\n",
       "0         99.3      F        68.0\n",
       "1         98.4      F        81.0\n",
       "2         97.8      M        73.0\n",
       "3         99.2      F        66.0\n",
       "4         98.0      F        73.0"
      ]
     },
     "execution_count": 2,
     "metadata": {},
     "output_type": "execute_result"
    }
   ],
   "source": [
    "df = pd.read_csv('data/human_body_temperature.csv')\n",
    "df.head()"
   ]
  },
  {
   "cell_type": "code",
   "execution_count": 3,
   "metadata": {},
   "outputs": [
    {
     "data": {
      "text/plain": [
       "count    130.000000\n",
       "mean      98.249231\n",
       "std        0.733183\n",
       "min       96.300000\n",
       "25%       97.800000\n",
       "50%       98.300000\n",
       "75%       98.700000\n",
       "max      100.800000\n",
       "Name: temperature, dtype: float64"
      ]
     },
     "execution_count": 3,
     "metadata": {},
     "output_type": "execute_result"
    }
   ],
   "source": [
    "df.temperature.describe()"
   ]
  },
  {
   "cell_type": "code",
   "execution_count": 4,
   "metadata": {},
   "outputs": [
    {
     "data": {
      "image/png": "[encoded data removed]",
      "text/plain": [
       "<matplotlib.figure.Figure at 0x1481f120cf8>"
      ]
     },
     "metadata": {},
     "output_type": "display_data"
    }
   ],
   "source": [
    "sns.distplot(df.temperature)\n",
    "plt.xlabel('Temperature (F)')\n",
    "plt.ylabel('Count')\n",
    "plt.show()"
   ]
  },
  {
   "cell_type": "markdown",
   "metadata": {},
   "source": [
    "Graphically, the data seems to be normally distributed, a bit skewed to the right.There may be outliers."
   ]
  },
  {
   "cell_type": "code",
   "execution_count": 5,
   "metadata": {
    "collapsed": true
   },
   "outputs": [],
   "source": [
    "def ecdf(data):\n",
    "    n = len(data)\n",
    "    x = np.sort(data)\n",
    "    y = np.arange(1, n+1) / n\n",
    "    return x, y"
   ]
  },
  {
   "cell_type": "code",
   "execution_count": 6,
   "metadata": {},
   "outputs": [
    {
     "data": {
      "image/png": "[encoded data removed]",
      "text/plain": [
       "<matplotlib.figure.Figure at 0x1481f7cd978>"
      ]
     },
     "metadata": {},
     "output_type": "display_data"
    }
   ],
   "source": [
    "mean = np.mean(df.temperature)\n",
    "std = np.std(df.temperature)\n",
    "sample = np.random.normal(mean, std, 10000)\n",
    "x, y = ecdf(df.temperature)\n",
    "x_theor, y_theor = ecdf(sample)\n",
    "_ = plt.plot(x,y)\n",
    "_ = plt.plot(x_theor, y_theor, marker = '.', linestyle='none')\n",
    "_ = plt.xlabel('Temperature (F)')\n",
    "_ = plt.ylabel('CDF')\n",
    "_ = plt.margins(0.02)\n",
    "plt.show()"
   ]
  },
  {
   "cell_type": "code",
   "execution_count": 7,
   "metadata": {},
   "outputs": [
    {
     "data": {
      "text/plain": [
       "NormaltestResult(statistic=2.7038014333192031, pvalue=0.2587479863488254)"
      ]
     },
     "execution_count": 7,
     "metadata": {},
     "output_type": "execute_result"
    }
   ],
   "source": [
    "stats.normaltest(df.temperature)"
   ]
  },
  {
   "cell_type": "markdown",
   "metadata": {},
   "source": [
    "###  1. Is the distribution of body temperatures normal?\n",
    "\n",
    "Graphically visualizing the data, the temperatures seem normally distributed. The ECDF overlays well with the ECDF, thus eliminating binning bias, and suggesting that the temperatures are normally distributed. \n",
    "The p-value of 0.25 is greater than 0.05, so there is a good probability that the distribution is normal."
   ]
  },
  {
   "cell_type": "markdown",
   "metadata": {},
   "source": [
    "###  2. Is the sample size large? Are the observations independent?\n",
    "\n",
    "According to the Central Limit Theorem, a sample size of 30 is large enough. Since theree are 130 observations, we can assume that the sample size is large. \n",
    "\n",
    "The observations are independent because:\n",
    "* Each observation is randomly generated in a way that it does not depend on the values of the other observations. \n",
    "* Sample size less than or equal to 10% of the population assumes independence. We have 130 samples from a population of over 7 billion."
   ]
  },
  {
   "cell_type": "markdown",
   "metadata": {},
   "source": [
    "###  3. Is the true population mean really 98.6 F?\n",
    "\n",
    "#### Would you use a one-sample or a two-sample test? Why?\n",
    "I would use a one sample test as we have only one sample of the population. \n",
    "\n",
    "#### In this situation is it appropriate to use the t or the z statistic? Why?\n",
    "Since the sample size greater than 30, we can use z-statistic. We have 130 samples.\n",
    " \n",
    "\n",
    "\n"
   ]
  },
  {
   "cell_type": "markdown",
   "metadata": {},
   "source": [
    "In frequentist statistical testing, data that are normally distributed are tested against the null hypothesis. \n",
    "We will assume:\n",
    "\n",
    "Null Hypothesis = 98.6\n",
    "\n",
    "Alternate Hypothesis != 98.6\n",
    "\n",
    "Significance level (alpha) = 0.05"
   ]
  },
  {
   "cell_type": "markdown",
   "metadata": {},
   "source": [
    "#### Bootstrap hypothesis test with 10,000 replicates"
   ]
  },
  {
   "cell_type": "code",
   "execution_count": 8,
   "metadata": {},
   "outputs": [
    {
     "name": "stdout",
     "output_type": "stream",
     "text": [
      "p-value is  0.0\n",
      "95% confidence interval is  [ 98.12461538  98.37307692]\n"
     ]
    }
   ],
   "source": [
    "bs_replicates = np.empty(10000)\n",
    "\n",
    "for i in range(10000):\n",
    "    bs_replicates[i] = np.mean(np.random.choice(df.temperature, len(df.temperature)))\n",
    "\n",
    "p_value = np.sum(bs_replicates >= 98.6) / len(bs_replicates) \n",
    "confidence_interval = np.percentile(bs_replicates, [2.5, 97.5])\n",
    "print('p-value is ', p_value)\n",
    "print('95% confidence interval is ', confidence_interval)"
   ]
  },
  {
   "cell_type": "markdown",
   "metadata": {},
   "source": [
    "Since p-value is lower than the significance level, we reject the null hypothesis."
   ]
  },
  {
   "cell_type": "markdown",
   "metadata": {},
   "source": [
    "#### Other test"
   ]
  },
  {
   "cell_type": "code",
   "execution_count": 10,
   "metadata": {},
   "outputs": [
    {
     "name": "stdout",
     "output_type": "stream",
     "text": [
      "t-statistic & p-value:  Ttest_1sampResult(statistic=-5.4548232923645195, pvalue=2.4106320415561276e-07)\n",
      "t-statistic & p-value bootstrap replicates :  Ttest_1sampResult(statistic=-549.59825877914523, pvalue=0.0)\n",
      "z-score is  -35.92205700681018\n",
      "z-score using bootstrap replicates is  5.49625740753\n"
     ]
    }
   ],
   "source": [
    "# T-test and Z-score\n",
    " \n",
    "t_stat = stats.ttest_1samp(df.temperature, 98.6)\n",
    "t_stat_repl = stats.ttest_1samp(bs_replicates, 98.6)\n",
    "z_score = (98.6 - np.mean(df.temperature / np.std(df.temperature)))\n",
    "z_score_repl = (98.6 - np.mean(bs_replicates)) / np.std(bs_replicates)\n",
    "print('t-statistic & p-value: ', t_stat)\n",
    "print('t-statistic & p-value bootstrap replicates : ', t_stat_repl)\n",
    "print('z-score is ', z_score)\n",
    "print('z-score using bootstrap replicates is ', z_score_repl)"
   ]
  },
  {
   "cell_type": "markdown",
   "metadata": {},
   "source": [
    "#### Draw a small sample of size 10 from the data and repeat both frequentist tests. \n",
    "Which one is the correct one to use? \n",
    "What do you notice? What does this tell you about the difference in application of the \n",
    "t\n",
    "t\n",
    "and \n",
    "z\n",
    "z\n",
    "statistic? "
   ]
  },
  {
   "cell_type": "code",
   "execution_count": 11,
   "metadata": {},
   "outputs": [
    {
     "name": "stdout",
     "output_type": "stream",
     "text": [
      "[ 98.6  99.   98.2  98.   98.2  97.4  98.7  97.4  97.4  97.7]\n"
     ]
    }
   ],
   "source": [
    "small_sample = np.random.choice(df.temperature, 10)\n",
    "print(small_sample)"
   ]
  },
  {
   "cell_type": "code",
   "execution_count": 12,
   "metadata": {},
   "outputs": [
    {
     "name": "stdout",
     "output_type": "stream",
     "text": [
      "p-value is  0.0008\n",
      "confidence interval is  [ 97.72  98.41]\n"
     ]
    }
   ],
   "source": [
    "# Bootstrap hypothesis for small sample\n",
    "\n",
    "small_replicates = np.empty(10000)\n",
    "\n",
    "for i in range(10000):\n",
    "    small_replicates[i] = np.mean(np.random.choice(small_sample, len(small_sample)))\n",
    "\n",
    "p_value = np.sum(small_replicates >= 98.6)/len(small_replicates) \n",
    "confidence_interval = np.percentile(small_replicates, [2.5, 97.5])\n",
    "print('p-value is ', p_value)\n",
    "print('confidence interval is ', confidence_interval)"
   ]
  },
  {
   "cell_type": "markdown",
   "metadata": {},
   "source": [
    "#### t t and z z statistic for small sample"
   ]
  },
  {
   "cell_type": "code",
   "execution_count": 13,
   "metadata": {},
   "outputs": [
    {
     "name": "stdout",
     "output_type": "stream",
     "text": [
      "t-statistic & p-value for small sample :  Ttest_1sampResult(statistic=-2.926648962796162, pvalue=0.016848588676086244)\n",
      "t-statistic & p-value for bootstrap replicates:  Ttest_1sampResult(statistic=-309.63733088884521, pvalue=0.0)\n",
      "z-score for the small sample is  -78.5525909209\n",
      "z-score using bootstrap replicates is  3.09652813917\n"
     ]
    }
   ],
   "source": [
    "t_stat = scipy.stats.ttest_1samp(small_sample, 98.6)\n",
    "t_stat_repl = scipy.stats.ttest_1samp(small_replicates, 98.6)\n",
    "z_score = (98.6 - np.mean(small_sample / np.std(small_sample)))\n",
    "z_score_repl = (98.6 - np.mean(small_replicates)) / np.std(small_replicates)\n",
    "print('t-statistic & p-value for small sample : ', t_stat)\n",
    "print('t-statistic & p-value for bootstrap replicates: ', t_stat_repl)\n",
    "print('z-score for the small sample is ', z_score)\n",
    "print('z-score using bootstrap replicates is ', z_score_repl)"
   ]
  },
  {
   "cell_type": "markdown",
   "metadata": {
    "collapsed": true
   },
   "source": [
    "t test is a better choice since the sample size is small (10 samples instead of 130).  \n",
    "In this case, p-value allows us to reject the null hypothesis. Z-score can give inaccurate results for a very small sample. "
   ]
  },
  {
   "cell_type": "markdown",
   "metadata": {},
   "source": [
    "#### At what temperature should we consider someone's temperature to be \"abnormal\"? \n",
    "\n"
   ]
  },
  {
   "cell_type": "code",
   "execution_count": 15,
   "metadata": {},
   "outputs": [
    {
     "name": "stdout",
     "output_type": "stream",
     "text": [
      "Margin of error is  0.0\n",
      "95% Confidence interval is  [ 98.12461538  98.37307692]\n"
     ]
    }
   ],
   "source": [
    "one_draw = np.mean(np.random.choice(df.temperature, len(df.temperature)))\n",
    "confidence_interval = np.percentile(bs_replicates, [2.5, 97.5])\n",
    "margin_of_error = np.std(np.mean(df.temperature)) / np.sqrt(130)\n",
    "print('Margin of error is ', margin_of_error)\n",
    "print('95% Confidence interval is ', confidence_interval)"
   ]
  },
  {
   "cell_type": "markdown",
   "metadata": {},
   "source": [
    "Based on the 95% confidence interval, we can consider that temperatures below 98.1 and about 98.4 are abnormal. "
   ]
  },
  {
   "cell_type": "markdown",
   "metadata": {},
   "source": [
    "#### Is there a significant difference between males and females in normal temperature? "
   ]
  },
  {
   "cell_type": "code",
   "execution_count": 16,
   "metadata": {},
   "outputs": [
    {
     "data": {
      "image/png": "[encoded data removed]",
      "text/plain": [
       "<matplotlib.figure.Figure at 0x1481f840be0>"
      ]
     },
     "metadata": {},
     "output_type": "display_data"
    }
   ],
   "source": [
    "sns.swarmplot(x = 'gender', y = 'temperature', data = df)\n",
    "plt.show()"
   ]
  },
  {
   "cell_type": "markdown",
   "metadata": {},
   "source": [
    "Women have higher body temperatures than men, and a wider spread. There is an outlier at 100.8"
   ]
  },
  {
   "cell_type": "code",
   "execution_count": 17,
   "metadata": {},
   "outputs": [
    {
     "data": {
      "text/html": [
       "<div>\n",
       "<style>\n",
       "    .dataframe thead tr:only-child th {\n",
       "        text-align: right;\n",
       "    }\n",
       "\n",
       "    .dataframe thead th {\n",
       "        text-align: left;\n",
       "    }\n",
       "\n",
       "    .dataframe tbody tr th {\n",
       "        vertical-align: top;\n",
       "    }\n",
       "</style>\n",
       "<table border=\"1\" class=\"dataframe\">\n",
       "  <thead>\n",
       "    <tr style=\"text-align: right;\">\n",
       "      <th></th>\n",
       "      <th>temperature</th>\n",
       "      <th>gender</th>\n",
       "      <th>heart_rate</th>\n",
       "    </tr>\n",
       "  </thead>\n",
       "  <tbody>\n",
       "    <tr>\n",
       "      <th>2</th>\n",
       "      <td>97.8</td>\n",
       "      <td>M</td>\n",
       "      <td>73.0</td>\n",
       "    </tr>\n",
       "    <tr>\n",
       "      <th>5</th>\n",
       "      <td>99.2</td>\n",
       "      <td>M</td>\n",
       "      <td>83.0</td>\n",
       "    </tr>\n",
       "    <tr>\n",
       "      <th>6</th>\n",
       "      <td>98.0</td>\n",
       "      <td>M</td>\n",
       "      <td>71.0</td>\n",
       "    </tr>\n",
       "    <tr>\n",
       "      <th>7</th>\n",
       "      <td>98.8</td>\n",
       "      <td>M</td>\n",
       "      <td>78.0</td>\n",
       "    </tr>\n",
       "    <tr>\n",
       "      <th>12</th>\n",
       "      <td>98.2</td>\n",
       "      <td>M</td>\n",
       "      <td>72.0</td>\n",
       "    </tr>\n",
       "  </tbody>\n",
       "</table>\n",
       "</div>"
      ],
      "text/plain": [
       "    temperature gender  heart_rate\n",
       "2          97.8      M        73.0\n",
       "5          99.2      M        83.0\n",
       "6          98.0      M        71.0\n",
       "7          98.8      M        78.0\n",
       "12         98.2      M        72.0"
      ]
     },
     "execution_count": 17,
     "metadata": {},
     "output_type": "execute_result"
    }
   ],
   "source": [
    "df_male = df[df.gender == 'M']\n",
    "df_female = df[df.gender == 'F']\n",
    "df_male.head()"
   ]
  },
  {
   "cell_type": "code",
   "execution_count": 18,
   "metadata": {},
   "outputs": [
    {
     "data": {
      "text/plain": [
       "count    65.000000\n",
       "mean     98.104615\n",
       "std       0.698756\n",
       "min      96.300000\n",
       "25%      97.600000\n",
       "50%      98.100000\n",
       "75%      98.600000\n",
       "max      99.500000\n",
       "Name: temperature, dtype: float64"
      ]
     },
     "execution_count": 18,
     "metadata": {},
     "output_type": "execute_result"
    }
   ],
   "source": [
    "df_male.temperature.describe()"
   ]
  },
  {
   "cell_type": "code",
   "execution_count": 19,
   "metadata": {},
   "outputs": [
    {
     "data": {
      "text/plain": [
       "count     65.000000\n",
       "mean      98.393846\n",
       "std        0.743488\n",
       "min       96.400000\n",
       "25%       98.000000\n",
       "50%       98.400000\n",
       "75%       98.800000\n",
       "max      100.800000\n",
       "Name: temperature, dtype: float64"
      ]
     },
     "execution_count": 19,
     "metadata": {},
     "output_type": "execute_result"
    }
   ],
   "source": [
    "df_female.temperature.describe()"
   ]
  },
  {
   "cell_type": "code",
   "execution_count": 20,
   "metadata": {},
   "outputs": [
    {
     "data": {
      "image/png": "[encoded data removed]",
      "text/plain": [
       "<matplotlib.figure.Figure at 0x1481f9509e8>"
      ]
     },
     "metadata": {},
     "output_type": "display_data"
    }
   ],
   "source": [
    "x_m, y_m = ecdf(df_male.temperature)\n",
    "x_f, y_f = ecdf(df_female.temperature)\n",
    "_ = plt.plot(x_f,y_f,  marker = '.', linestyle='none')\n",
    "_ = plt.plot(x_m, y_m, marker = '.', linestyle='none')\n",
    "_ = plt.xlabel('Temperature (F)')\n",
    "_ = plt.ylabel('CDF')\n",
    "_ = plt.legend(('female', 'male'), loc = 'lower right')\n",
    "_ = plt.margins(0.02)\n",
    "plt.show()"
   ]
  },
  {
   "cell_type": "code",
   "execution_count": 21,
   "metadata": {},
   "outputs": [
    {
     "data": {
      "image/png": "[encoded data removed]",
      "text/plain": [
       "<matplotlib.figure.Figure at 0x1481f950978>"
      ]
     },
     "metadata": {},
     "output_type": "display_data"
    }
   ],
   "source": [
    "mean_m = np.mean(df_male.temperature)\n",
    "std_m = np.std(df_male.temperature)\n",
    "sample_m = np.random.normal(mean_m, std_m, 10000)\n",
    "x_m, y_m = ecdf(sample_m)\n",
    "\n",
    "mean_f = np.mean(df_female.temperature)\n",
    "std_f = np.std(df_female.temperature)\n",
    "sample_f = np.random.normal(mean_f, std_f, 10000)\n",
    "x_f, y_f = ecdf(sample_f)\n",
    "\n",
    "_ = plt.plot(x_f,y_f,  marker = '.', linestyle='none')\n",
    "_ = plt.plot(x_m, y_m, marker = '.', linestyle='none')\n",
    "_ = plt.xlabel('Temperature (F)')\n",
    "_ = plt.ylabel('ECDF')\n",
    "_ = plt.legend(('female', 'male'), loc = 'lower right')\n",
    "_ = plt.margins(0.02)\n",
    "plt.show()"
   ]
  },
  {
   "cell_type": "code",
   "execution_count": 27,
   "metadata": {},
   "outputs": [
    {
     "name": "stdout",
     "output_type": "stream",
     "text": [
      "p-value is  0.0258\n"
     ]
    }
   ],
   "source": [
    "perm_replicates = np.empty(10000)\n",
    "diff_of_means = np.mean(df_female.temperature) - np.mean(df_male.temperature)\n",
    "\n",
    "for i in range(10000):\n",
    "    df_both = np.concatenate((df_male.temperature, df_female.temperature))\n",
    "    perm_data = np.random.permutation(df_both)\n",
    "    perm_data_male = perm_data[:len(df_male)]\n",
    "    perm_data_female = perm_data[len(df_female):]\n",
    "    perm_replicates[i] = abs(np.mean(perm_data_female) - np.mean(perm_data_male))\n",
    "\n",
    "p_value = np.sum(perm_replicates >= diff_of_means) /  len(perm_replicates)\n",
    "print('p-value is ', p_value)"
   ]
  },
  {
   "cell_type": "markdown",
   "metadata": {
    "collapsed": true
   },
   "source": [
    "p-value < 0.05, so we can assume the difference in the body temperatures of male and female are statistically significant. \n",
    "\n",
    "Body temperature is lower in men at 98.1F than in women. Women have a slightly higher temperature at 98.4F\n",
    "The analysis rejects the hypothesis that the mean normal body temperature is 98.6F."
   ]
  }
 ],
 "metadata": {
  "kernelspec": {
   "display_name": "Python 3",
   "language": "python",
   "name": "python3"
  },
  "language_info": {
   "codemirror_mode": {
    "name": "ipython",
    "version": 3
   },
   "file_extension": ".py",
   "mimetype": "text/x-python",
   "name": "python",
   "nbconvert_exporter": "python",
   "pygments_lexer": "ipython3",
   "version": "3.6.3"
  }
 },
 "nbformat": 4,
 "nbformat_minor": 1
}
