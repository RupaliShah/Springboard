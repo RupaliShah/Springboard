{
 "cells": [
  {
   "cell_type": "code",
   "execution_count": 16,
   "metadata": {
    "collapsed": true
   },
   "outputs": [],
   "source": [
    "import pandas as pd\n",
    "import numpy as np\n",
    "import matplotlib.pyplot as plt\n",
    "\n",
    "from math import sqrt\n",
    "from sklearn.metrics import mean_squared_error\n",
    "\n",
    "from sklearn.model_selection import train_test_split\n",
    "from sklearn.preprocessing import MinMaxScaler\n",
    "\n",
    "import tensorflow as tf\n",
    "from keras.models import Sequential\n",
    "from keras.layers import Dense, Dropout, LSTM\n",
    "\n",
    "import quandl"
   ]
  },
  {
   "cell_type": "code",
   "execution_count": 17,
   "metadata": {
    "collapsed": true
   },
   "outputs": [],
   "source": [
    "apikey= 's8_hUUARe3sFyq3Chrxu' "
   ]
  },
  {
   "cell_type": "code",
   "execution_count": 18,
   "metadata": {
    "collapsed": true
   },
   "outputs": [],
   "source": [
    "stock_data = quandl.get('EOD/CVX', authtoken=apikey)"
   ]
  },
  {
   "cell_type": "code",
   "execution_count": 19,
   "metadata": {},
   "outputs": [
    {
     "data": {
      "text/plain": [
       "Index(['Open', 'High', 'Low', 'Close', 'Volume', 'Dividend', 'Split',\n",
       "       'Adj_Open', 'Adj_High', 'Adj_Low', 'Adj_Close', 'Adj_Volume'],\n",
       "      dtype='object')"
      ]
     },
     "execution_count": 19,
     "metadata": {},
     "output_type": "execute_result"
    }
   ],
   "source": [
    "stock_data.columns"
   ]
  },
  {
   "cell_type": "code",
   "execution_count": 20,
   "metadata": {
    "collapsed": true
   },
   "outputs": [],
   "source": [
    "# Split data into train and test \n",
    "\n",
    "data = stock_data.Adj_Close\n",
    "\n",
    "train = data[:int(0.8*(len(data)))]\n",
    "test = data[int(0.8*(len(data))):]"
   ]
  },
  {
   "cell_type": "code",
   "execution_count": 21,
   "metadata": {
    "collapsed": true
   },
   "outputs": [],
   "source": [
    "# Convert dataset to a numpy array, and reshape the data to one column\n",
    "\n",
    "training_set = train.values.reshape(-1,1)"
   ]
  },
  {
   "cell_type": "markdown",
   "metadata": {},
   "source": [
    "Normalizng is rescaling values between 0 and 1. Standardization is shifting the distribution to have mean 0 and std dev 1 \n",
    "Scaling the data can have a great impact on the result. For example, when a tanh activation function is used, and the value range is between -1 and 1, the model seems to converge faster and the validation error also does not jump dramatically after each epoch."
   ]
  },
  {
   "cell_type": "code",
   "execution_count": 22,
   "metadata": {
    "collapsed": true
   },
   "outputs": [],
   "source": [
    "# Normalize the data. MinmaxScaler normalizes all the data be in the range of 0 and 1.\n",
    "\n",
    "scaler = MinMaxScaler(feature_range = (0,1))\n",
    "training_set_scaled = scaler.fit_transform(training_set)"
   ]
  },
  {
   "cell_type": "code",
   "execution_count": 23,
   "metadata": {
    "collapsed": true
   },
   "outputs": [],
   "source": [
    "# Create data with 30 timesteps. \n",
    "\n",
    "ts = 30\n",
    "X_train = []\n",
    "y_train = []\n",
    "\n",
    "for i in range(ts,len(training_set_scaled)):\n",
    "    X_train.append(training_set_scaled[i-ts:i, 0])\n",
    "    y_train.append(training_set_scaled[i,0])\n",
    "\n",
    "# Convert the list to a NumPy array\n",
    "\n",
    "X_train, y_train = np.array(X_train), np.array(y_train)"
   ]
  },
  {
   "cell_type": "code",
   "execution_count": 24,
   "metadata": {},
   "outputs": [
    {
     "data": {
      "text/plain": [
       "(842, 30)"
      ]
     },
     "execution_count": 24,
     "metadata": {},
     "output_type": "execute_result"
    }
   ],
   "source": [
    "X_train.shape"
   ]
  },
  {
   "cell_type": "code",
   "execution_count": 25,
   "metadata": {
    "collapsed": true
   },
   "outputs": [],
   "source": [
    "# Convert data(X_train) into a 3D array, with number of X_train samples, 30 timesteps, and a feature at each step\n",
    "# 3D tensor with shape (batch_size, timesteps, input_size)\n",
    "\n",
    "X_train = np.reshape(X_train, (X_train.shape[0], X_train.shape[1], 1))\n"
   ]
  },
  {
   "cell_type": "code",
   "execution_count": 26,
   "metadata": {},
   "outputs": [
    {
     "data": {
      "text/plain": [
       "30"
      ]
     },
     "execution_count": 26,
     "metadata": {},
     "output_type": "execute_result"
    }
   ],
   "source": [
    "X_train.shape[1]"
   ]
  },
  {
   "cell_type": "code",
   "execution_count": 45,
   "metadata": {},
   "outputs": [
    {
     "name": "stdout",
     "output_type": "stream",
     "text": [
      "Epoch 1/24\n",
      "842/842 [==============================] - 11s 13ms/step - loss: 0.0748 - acc: 0.0024\n",
      "Epoch 2/24\n",
      "842/842 [==============================] - 3s 4ms/step - loss: 0.0148 - acc: 0.0024\n",
      "Epoch 3/24\n",
      "842/842 [==============================] - 3s 4ms/step - loss: 0.0095 - acc: 0.0024\n",
      "Epoch 4/24\n",
      "842/842 [==============================] - 3s 4ms/step - loss: 0.0096 - acc: 0.0024\n",
      "Epoch 5/24\n",
      "842/842 [==============================] - 3s 4ms/step - loss: 0.0103 - acc: 0.0024\n",
      "Epoch 6/24\n",
      "842/842 [==============================] - 3s 3ms/step - loss: 0.0092 - acc: 0.0024\n",
      "Epoch 7/24\n",
      "842/842 [==============================] - 3s 3ms/step - loss: 0.0093 - acc: 0.0024\n",
      "Epoch 8/24\n",
      "842/842 [==============================] - 3s 3ms/step - loss: 0.0080 - acc: 0.0024\n",
      "Epoch 9/24\n",
      "842/842 [==============================] - 3s 3ms/step - loss: 0.0081 - acc: 0.0024\n",
      "Epoch 10/24\n",
      "842/842 [==============================] - 3s 3ms/step - loss: 0.0077 - acc: 0.0024\n",
      "Epoch 11/24\n",
      "842/842 [==============================] - 3s 3ms/step - loss: 0.0071 - acc: 0.0024\n",
      "Epoch 12/24\n",
      "842/842 [==============================] - 3s 3ms/step - loss: 0.0074 - acc: 0.0024\n",
      "Epoch 13/24\n",
      "842/842 [==============================] - 3s 3ms/step - loss: 0.0071 - acc: 0.0024\n",
      "Epoch 14/24\n",
      "842/842 [==============================] - 3s 3ms/step - loss: 0.0069 - acc: 0.0024\n",
      "Epoch 15/24\n",
      "842/842 [==============================] - 3s 3ms/step - loss: 0.0071 - acc: 0.0024- ETA: 1s - loss: 0.0071 - \n",
      "Epoch 16/24\n",
      "842/842 [==============================] - 3s 3ms/step - loss: 0.0063 - acc: 0.0024\n",
      "Epoch 17/24\n",
      "842/842 [==============================] - 3s 3ms/step - loss: 0.0063 - acc: 0.0024\n",
      "Epoch 18/24\n",
      "842/842 [==============================] - 3s 3ms/step - loss: 0.0068 - acc: 0.0024\n",
      "Epoch 19/24\n",
      "842/842 [==============================] - 3s 3ms/step - loss: 0.0066 - acc: 0.0024\n",
      "Epoch 20/24\n",
      "842/842 [==============================] - 3s 3ms/step - loss: 0.0067 - acc: 0.0024\n",
      "Epoch 21/24\n",
      "842/842 [==============================] - 3s 3ms/step - loss: 0.0060 - acc: 0.0024\n",
      "Epoch 22/24\n",
      "842/842 [==============================] - 3s 3ms/step - loss: 0.0059 - acc: 0.0024\n",
      "Epoch 23/24\n",
      "842/842 [==============================] - 3s 3ms/step - loss: 0.0055 - acc: 0.0024\n",
      "Epoch 24/24\n",
      "842/842 [==============================] - 3s 3ms/step - loss: 0.0057 - acc: 0.0024\n"
     ]
    },
    {
     "data": {
      "text/plain": [
       "<keras.callbacks.History at 0x1b5d5efaeb8>"
      ]
     },
     "execution_count": 45,
     "metadata": {},
     "output_type": "execute_result"
    }
   ],
   "source": [
    "# Build the LSTM model \n",
    "# units=50 - output nodes \n",
    "# return_sequence=True - ensures data is returned in a sequence and not scattered\n",
    "# 20% of layers are dropped out\n",
    "\n",
    "model = Sequential()\n",
    "\n",
    "model.add(LSTM(units = 50, return_sequences = True, input_shape = (X_train.shape[1], 1)))\n",
    "model.add(Dropout(0.2))\n",
    "\n",
    "model.add(LSTM(units = 50, return_sequences = True))\n",
    "model.add(Dropout(0.2))\n",
    "\n",
    "model.add(LSTM(units = 50, return_sequences = True))\n",
    "model.add(Dropout(0.2))\n",
    "\n",
    "model.add(LSTM(units = 50))\n",
    "model.add(Dropout(0.2))\n",
    "\n",
    "model.add(Dense(units = 1))\n",
    "\n",
    "model.compile(optimizer = 'adam', \n",
    "              loss = 'mean_squared_error', \n",
    "              metrics=['accuracy'])\n",
    "\n",
    "model.fit(X_train, y_train, epochs = 24, batch_size = 32)"
   ]
  },
  {
   "cell_type": "code",
   "execution_count": 46,
   "metadata": {
    "collapsed": true
   },
   "outputs": [],
   "source": [
    "# predict\n",
    "# input data = last 30 records of the train dataset + all records of the test dataset\n",
    "# inverse transform the scaled values to normal\n",
    "\n",
    "dataset = pd.concat((train, test), axis = 0)\n",
    "\n",
    "inputs = dataset[len(dataset) - len(test) - ts:].values  \n",
    "inputs = inputs.reshape(-1,1)\n",
    "inputs = scaler.transform(inputs)\n",
    "\n",
    "X_test = []\n",
    "for i in range(ts, len(inputs)):\n",
    "    X_test.append(inputs[i-ts:i, 0])    \n",
    "X_test = np.array(X_test)\n",
    "X_test = np.reshape(X_test, (X_test.shape[0], X_test.shape[1], 1))\n",
    "\n",
    "predicted_stock_price = model.predict(X_test)\n",
    "predicted_stock_price = scaler.inverse_transform(predicted_stock_price)"
   ]
  },
  {
   "cell_type": "code",
   "execution_count": 47,
   "metadata": {},
   "outputs": [
    {
     "data": {
      "image/png": "[encoded data removed]",
      "text/plain": [
       "<matplotlib.figure.Figure at 0x1b5d841eb70>"
      ]
     },
     "metadata": {},
     "output_type": "display_data"
    }
   ],
   "source": [
    "#plt.plot(test, color = 'black', label = 'Boeing Stock price')\n",
    "plt.figure(figsize=(10,5))\n",
    "plt.plot(predicted_stock_price, color = 'green', label = 'Predicted Stock Price')\n",
    "plt.plot(test.values, color='orange', label='Original Stock Price')\n",
    "plt.title('Chevron Stock Price Prediction (LSTM)')\n",
    "plt.xlabel('Time')\n",
    "plt.ylabel('Stock Price')\n",
    "plt.legend()\n",
    "plt.show()"
   ]
  },
  {
   "cell_type": "code",
   "execution_count": 48,
   "metadata": {},
   "outputs": [
    {
     "name": "stdout",
     "output_type": "stream",
     "text": [
      "RMSE: 2.37\n"
     ]
    }
   ],
   "source": [
    "rmse = sqrt(mean_squared_error(test, predicted_stock_price))\n",
    "print('RMSE:' , round(rmse,2))"
   ]
  }
 ],
 "metadata": {
  "kernelspec": {
   "display_name": "PythonData_3",
   "language": "python",
   "name": "envname"
  },
  "language_info": {
   "codemirror_mode": {
    "name": "ipython",
    "version": 3
   },
   "file_extension": ".py",
   "mimetype": "text/x-python",
   "name": "python",
   "nbconvert_exporter": "python",
   "pygments_lexer": "ipython3",
   "version": "3.6.3"
  }
 },
 "nbformat": 4,
 "nbformat_minor": 2
}
